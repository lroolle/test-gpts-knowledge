{
 "cells": [
  {
   "cell_type": "markdown",
   "metadata": {},
   "source": [
    "| ID  | Name    | Score |\n",
    "|-----|---------|-------|\n",
    "| 1   | Alice   | 85    |\n",
    "| 2   | Bob     | 92    |\n",
    "| 3   | Charlie | 78    |"
   ],
   "id": "c9cdeea4-7934-4f56-bc22-1a74e5072b37"
  }
 ],
 "nbformat": 4,
 "nbformat_minor": 5,
 "metadata": {}
}
